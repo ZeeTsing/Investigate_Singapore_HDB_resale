{
 "cells": [
  {
   "cell_type": "code",
   "execution_count": 25,
   "metadata": {},
   "outputs": [],
   "source": [
    "\n",
    "import numpy as np\n",
    "import pandas as pd\n",
    "\n",
    "import json\n",
    "import grequests"
   ]
  },
  {
   "cell_type": "code",
   "execution_count": 4,
   "metadata": {},
   "outputs": [],
   "source": [
    "path = r'G:\\Github\\Investigating_Singapore_Housing_Price\\data\\resale-flat-prices-based-on-registration-date-from-jan-2017-onwards.csv'\n",
    "df = pd.read_csv(path)"
   ]
  },
  {
   "cell_type": "code",
   "execution_count": 13,
   "metadata": {},
   "outputs": [
    {
     "data": {
      "text/html": [
       "<div>\n",
       "<style scoped>\n",
       "    .dataframe tbody tr th:only-of-type {\n",
       "        vertical-align: middle;\n",
       "    }\n",
       "\n",
       "    .dataframe tbody tr th {\n",
       "        vertical-align: top;\n",
       "    }\n",
       "\n",
       "    .dataframe thead th {\n",
       "        text-align: right;\n",
       "    }\n",
       "</style>\n",
       "<table border=\"1\" class=\"dataframe\">\n",
       "  <thead>\n",
       "    <tr style=\"text-align: right;\">\n",
       "      <th></th>\n",
       "      <th>month</th>\n",
       "      <th>town</th>\n",
       "      <th>flat_type</th>\n",
       "      <th>block</th>\n",
       "      <th>street_name</th>\n",
       "      <th>storey_range</th>\n",
       "      <th>floor_area_sqm</th>\n",
       "      <th>flat_model</th>\n",
       "      <th>lease_commence_date</th>\n",
       "      <th>remaining_lease</th>\n",
       "      <th>resale_price</th>\n",
       "    </tr>\n",
       "  </thead>\n",
       "  <tbody>\n",
       "    <tr>\n",
       "      <th>62260</th>\n",
       "      <td>2019-11</td>\n",
       "      <td>YISHUN</td>\n",
       "      <td>5 ROOM</td>\n",
       "      <td>865</td>\n",
       "      <td>YISHUN ST 81</td>\n",
       "      <td>07 TO 09</td>\n",
       "      <td>122.0</td>\n",
       "      <td>Improved</td>\n",
       "      <td>1988</td>\n",
       "      <td>67 years 05 months</td>\n",
       "      <td>458000.0</td>\n",
       "    </tr>\n",
       "    <tr>\n",
       "      <th>62261</th>\n",
       "      <td>2019-11</td>\n",
       "      <td>YISHUN</td>\n",
       "      <td>EXECUTIVE</td>\n",
       "      <td>328</td>\n",
       "      <td>YISHUN RING RD</td>\n",
       "      <td>07 TO 09</td>\n",
       "      <td>142.0</td>\n",
       "      <td>Apartment</td>\n",
       "      <td>1988</td>\n",
       "      <td>67 years 08 months</td>\n",
       "      <td>565000.0</td>\n",
       "    </tr>\n",
       "    <tr>\n",
       "      <th>62262</th>\n",
       "      <td>2019-11</td>\n",
       "      <td>YISHUN</td>\n",
       "      <td>EXECUTIVE</td>\n",
       "      <td>328</td>\n",
       "      <td>YISHUN RING RD</td>\n",
       "      <td>04 TO 06</td>\n",
       "      <td>146.0</td>\n",
       "      <td>Maisonette</td>\n",
       "      <td>1988</td>\n",
       "      <td>67 years 07 months</td>\n",
       "      <td>538000.0</td>\n",
       "    </tr>\n",
       "    <tr>\n",
       "      <th>62263</th>\n",
       "      <td>2019-11</td>\n",
       "      <td>YISHUN</td>\n",
       "      <td>EXECUTIVE</td>\n",
       "      <td>611</td>\n",
       "      <td>YISHUN ST 61</td>\n",
       "      <td>10 TO 12</td>\n",
       "      <td>146.0</td>\n",
       "      <td>Maisonette</td>\n",
       "      <td>1987</td>\n",
       "      <td>67 years</td>\n",
       "      <td>588888.0</td>\n",
       "    </tr>\n",
       "    <tr>\n",
       "      <th>62264</th>\n",
       "      <td>2019-11</td>\n",
       "      <td>YISHUN</td>\n",
       "      <td>EXECUTIVE</td>\n",
       "      <td>828</td>\n",
       "      <td>YISHUN ST 81</td>\n",
       "      <td>04 TO 06</td>\n",
       "      <td>145.0</td>\n",
       "      <td>Apartment</td>\n",
       "      <td>1988</td>\n",
       "      <td>67 years 02 months</td>\n",
       "      <td>618000.0</td>\n",
       "    </tr>\n",
       "  </tbody>\n",
       "</table>\n",
       "</div>"
      ],
      "text/plain": [
       "         month    town  flat_type block     street_name storey_range  \\\n",
       "62260  2019-11  YISHUN     5 ROOM   865    YISHUN ST 81     07 TO 09   \n",
       "62261  2019-11  YISHUN  EXECUTIVE   328  YISHUN RING RD     07 TO 09   \n",
       "62262  2019-11  YISHUN  EXECUTIVE   328  YISHUN RING RD     04 TO 06   \n",
       "62263  2019-11  YISHUN  EXECUTIVE   611    YISHUN ST 61     10 TO 12   \n",
       "62264  2019-11  YISHUN  EXECUTIVE   828    YISHUN ST 81     04 TO 06   \n",
       "\n",
       "       floor_area_sqm  flat_model  lease_commence_date     remaining_lease  \\\n",
       "62260           122.0    Improved                 1988  67 years 05 months   \n",
       "62261           142.0   Apartment                 1988  67 years 08 months   \n",
       "62262           146.0  Maisonette                 1988  67 years 07 months   \n",
       "62263           146.0  Maisonette                 1987            67 years   \n",
       "62264           145.0   Apartment                 1988  67 years 02 months   \n",
       "\n",
       "       resale_price  \n",
       "62260      458000.0  \n",
       "62261      565000.0  \n",
       "62262      538000.0  \n",
       "62263      588888.0  \n",
       "62264      618000.0  "
      ]
     },
     "execution_count": 13,
     "metadata": {},
     "output_type": "execute_result"
    }
   ],
   "source": [
    "df.tail()"
   ]
  },
  {
   "cell_type": "code",
   "execution_count": 3,
   "metadata": {},
   "outputs": [
    {
     "data": {
      "text/html": [
       "<div>\n",
       "<style scoped>\n",
       "    .dataframe tbody tr th:only-of-type {\n",
       "        vertical-align: middle;\n",
       "    }\n",
       "\n",
       "    .dataframe tbody tr th {\n",
       "        vertical-align: top;\n",
       "    }\n",
       "\n",
       "    .dataframe thead th {\n",
       "        text-align: right;\n",
       "    }\n",
       "</style>\n",
       "<table border=\"1\" class=\"dataframe\">\n",
       "  <thead>\n",
       "    <tr style=\"text-align: right;\">\n",
       "      <th></th>\n",
       "      <th>floor_area_sqm</th>\n",
       "      <th>lease_commence_date</th>\n",
       "      <th>resale_price</th>\n",
       "    </tr>\n",
       "  </thead>\n",
       "  <tbody>\n",
       "    <tr>\n",
       "      <th>floor_area_sqm</th>\n",
       "      <td>1.000000</td>\n",
       "      <td>0.218871</td>\n",
       "      <td>0.632800</td>\n",
       "    </tr>\n",
       "    <tr>\n",
       "      <th>lease_commence_date</th>\n",
       "      <td>0.218871</td>\n",
       "      <td>1.000000</td>\n",
       "      <td>0.325639</td>\n",
       "    </tr>\n",
       "    <tr>\n",
       "      <th>resale_price</th>\n",
       "      <td>0.632800</td>\n",
       "      <td>0.325639</td>\n",
       "      <td>1.000000</td>\n",
       "    </tr>\n",
       "  </tbody>\n",
       "</table>\n",
       "</div>"
      ],
      "text/plain": [
       "                     floor_area_sqm  lease_commence_date  resale_price\n",
       "floor_area_sqm             1.000000             0.218871      0.632800\n",
       "lease_commence_date        0.218871             1.000000      0.325639\n",
       "resale_price               0.632800             0.325639      1.000000"
      ]
     },
     "execution_count": 3,
     "metadata": {},
     "output_type": "execute_result"
    }
   ],
   "source": [
    "df.corr()"
   ]
  },
  {
   "cell_type": "code",
   "execution_count": 100,
   "metadata": {},
   "outputs": [],
   "source": [
    "df.head()\n",
    "df.street_name = df.street_name.replace({\"ST. \":\"ST \"},regex = True)"
   ]
  },
  {
   "cell_type": "code",
   "execution_count": 101,
   "metadata": {},
   "outputs": [],
   "source": [
    "short_url = \"https://developers.onemap.sg/commonapi/search?searchVal={}&returnGeom=Y&getAddrDetails=Y\"\n",
    "address_to_search = [blk+\"+\"+street.replace(' ',\"+\") for blk,street in zip(df.block,df.street_name)]\n",
    "urls = [short_url.format(add) for add in address_to_search]"
   ]
  },
  {
   "cell_type": "code",
   "execution_count": 11,
   "metadata": {},
   "outputs": [],
   "source": [
    "with open('url.txt','w') as f:\n",
    "    f.writelines([u + \"\\n\" for u in urls])"
   ]
  },
  {
   "cell_type": "code",
   "execution_count": 12,
   "metadata": {},
   "outputs": [
    {
     "data": {
      "text/plain": [
       "62265"
      ]
     },
     "execution_count": 12,
     "metadata": {},
     "output_type": "execute_result"
    }
   ],
   "source": [
    "len(urls)"
   ]
  },
  {
   "cell_type": "code",
   "execution_count": 36,
   "metadata": {},
   "outputs": [],
   "source": [
    "houseinfo = []\n",
    "url_used = []\n",
    "with open('houseinfo.txt','r') as f:\n",
    "    for line in f:\n",
    "        houseinfo.append(json.loads(line.split('\"text\":')[1][:-2]))\n",
    "        url_used.append(line.split('\"text\":')[0][1:])"
   ]
  },
  {
   "cell_type": "code",
   "execution_count": 25,
   "metadata": {},
   "outputs": [
    {
     "data": {
      "text/plain": [
       "[{'SEARCHVAL': 'HDB-CHOA CHU KANG',\n",
       "  'BLK_NO': '689A',\n",
       "  'ROAD_NAME': 'CHOA CHU KANG DRIVE',\n",
       "  'BUILDING': 'HDB-CHOA CHU KANG',\n",
       "  'ADDRESS': '689A CHOA CHU KANG DRIVE HDB-CHOA CHU KANG SINGAPORE 681689',\n",
       "  'POSTAL': '681689',\n",
       "  'X': '18763.3961538309',\n",
       "  'Y': '42761.076653048396',\n",
       "  'LATITUDE': '1.40298901385213',\n",
       "  'LONGITUDE': '103.750320068403',\n",
       "  'LONGTITUDE': '103.750320068403'}]"
      ]
     },
     "execution_count": 25,
     "metadata": {},
     "output_type": "execute_result"
    }
   ],
   "source": [
    "houseinfo[0]['results']"
   ]
  },
  {
   "cell_type": "code",
   "execution_count": 29,
   "metadata": {},
   "outputs": [],
   "source": [
    "postal_list = []\n",
    "failure = []\n",
    "for i,item in enumerate(houseinfo):\n",
    "    try:\n",
    "        postal_list.append(item['results'][0]['POSTAL'])\n",
    "    except IndexError:\n",
    "        failure.append(i)"
   ]
  },
  {
   "cell_type": "code",
   "execution_count": 30,
   "metadata": {},
   "outputs": [
    {
     "data": {
      "text/plain": [
       "61970"
      ]
     },
     "execution_count": 30,
     "metadata": {},
     "output_type": "execute_result"
    }
   ],
   "source": [
    "len(postal_list)"
   ]
  },
  {
   "cell_type": "code",
   "execution_count": 31,
   "metadata": {},
   "outputs": [
    {
     "data": {
      "text/plain": [
       "295"
      ]
     },
     "execution_count": 31,
     "metadata": {},
     "output_type": "execute_result"
    }
   ],
   "source": [
    "len(failure)"
   ]
  },
  {
   "cell_type": "code",
   "execution_count": 32,
   "metadata": {},
   "outputs": [
    {
     "data": {
      "text/html": [
       "<div>\n",
       "<style scoped>\n",
       "    .dataframe tbody tr th:only-of-type {\n",
       "        vertical-align: middle;\n",
       "    }\n",
       "\n",
       "    .dataframe tbody tr th {\n",
       "        vertical-align: top;\n",
       "    }\n",
       "\n",
       "    .dataframe thead th {\n",
       "        text-align: right;\n",
       "    }\n",
       "</style>\n",
       "<table border=\"1\" class=\"dataframe\">\n",
       "  <thead>\n",
       "    <tr style=\"text-align: right;\">\n",
       "      <th></th>\n",
       "      <th>month</th>\n",
       "      <th>town</th>\n",
       "      <th>flat_type</th>\n",
       "      <th>block</th>\n",
       "      <th>street_name</th>\n",
       "      <th>storey_range</th>\n",
       "      <th>floor_area_sqm</th>\n",
       "      <th>flat_model</th>\n",
       "      <th>lease_commence_date</th>\n",
       "      <th>remaining_lease</th>\n",
       "      <th>resale_price</th>\n",
       "    </tr>\n",
       "  </thead>\n",
       "  <tbody>\n",
       "    <tr>\n",
       "      <th>289</th>\n",
       "      <td>2017-01</td>\n",
       "      <td>BUKIT PANJANG</td>\n",
       "      <td>5 ROOM</td>\n",
       "      <td>174</td>\n",
       "      <td>LOMPANG RD</td>\n",
       "      <td>04 TO 06</td>\n",
       "      <td>122.0</td>\n",
       "      <td>Improved</td>\n",
       "      <td>1997</td>\n",
       "      <td>79 years 07 months</td>\n",
       "      <td>555000.0</td>\n",
       "    </tr>\n",
       "    <tr>\n",
       "      <th>408</th>\n",
       "      <td>2017-01</td>\n",
       "      <td>GEYLANG</td>\n",
       "      <td>4 ROOM</td>\n",
       "      <td>120</td>\n",
       "      <td>GEYLANG EAST CTRL</td>\n",
       "      <td>10 TO 12</td>\n",
       "      <td>91.0</td>\n",
       "      <td>New Generation</td>\n",
       "      <td>1982</td>\n",
       "      <td>64 years 04 months</td>\n",
       "      <td>515000.0</td>\n",
       "    </tr>\n",
       "    <tr>\n",
       "      <th>899</th>\n",
       "      <td>2017-01</td>\n",
       "      <td>SERANGOON</td>\n",
       "      <td>4 ROOM</td>\n",
       "      <td>109</td>\n",
       "      <td>SERANGOON NTH AVE 1</td>\n",
       "      <td>04 TO 06</td>\n",
       "      <td>91.0</td>\n",
       "      <td>New Generation</td>\n",
       "      <td>1985</td>\n",
       "      <td>67 years 05 months</td>\n",
       "      <td>390000.0</td>\n",
       "    </tr>\n",
       "    <tr>\n",
       "      <th>925</th>\n",
       "      <td>2017-01</td>\n",
       "      <td>TAMPINES</td>\n",
       "      <td>3 ROOM</td>\n",
       "      <td>806</td>\n",
       "      <td>TAMPINES AVE 4</td>\n",
       "      <td>04 TO 06</td>\n",
       "      <td>73.0</td>\n",
       "      <td>Model A</td>\n",
       "      <td>1984</td>\n",
       "      <td>66 years 02 months</td>\n",
       "      <td>345000.0</td>\n",
       "    </tr>\n",
       "    <tr>\n",
       "      <th>941</th>\n",
       "      <td>2017-01</td>\n",
       "      <td>TAMPINES</td>\n",
       "      <td>4 ROOM</td>\n",
       "      <td>421</td>\n",
       "      <td>TAMPINES ST 41</td>\n",
       "      <td>04 TO 06</td>\n",
       "      <td>105.0</td>\n",
       "      <td>Model A</td>\n",
       "      <td>1985</td>\n",
       "      <td>67 years 05 months</td>\n",
       "      <td>413888.0</td>\n",
       "    </tr>\n",
       "    <tr>\n",
       "      <th>...</th>\n",
       "      <td>...</td>\n",
       "      <td>...</td>\n",
       "      <td>...</td>\n",
       "      <td>...</td>\n",
       "      <td>...</td>\n",
       "      <td>...</td>\n",
       "      <td>...</td>\n",
       "      <td>...</td>\n",
       "      <td>...</td>\n",
       "      <td>...</td>\n",
       "      <td>...</td>\n",
       "    </tr>\n",
       "    <tr>\n",
       "      <th>60499</th>\n",
       "      <td>2019-11</td>\n",
       "      <td>BEDOK</td>\n",
       "      <td>4 ROOM</td>\n",
       "      <td>667</td>\n",
       "      <td>JLN DAMAI</td>\n",
       "      <td>01 TO 03</td>\n",
       "      <td>108.0</td>\n",
       "      <td>Model A</td>\n",
       "      <td>1996</td>\n",
       "      <td>76 years</td>\n",
       "      <td>448000.0</td>\n",
       "    </tr>\n",
       "    <tr>\n",
       "      <th>60511</th>\n",
       "      <td>2019-11</td>\n",
       "      <td>BEDOK</td>\n",
       "      <td>5 ROOM</td>\n",
       "      <td>147</td>\n",
       "      <td>BEDOK RESERVOIR RD</td>\n",
       "      <td>07 TO 09</td>\n",
       "      <td>122.0</td>\n",
       "      <td>Improved</td>\n",
       "      <td>1987</td>\n",
       "      <td>66 years 04 months</td>\n",
       "      <td>468000.0</td>\n",
       "    </tr>\n",
       "    <tr>\n",
       "      <th>60521</th>\n",
       "      <td>2019-11</td>\n",
       "      <td>BEDOK</td>\n",
       "      <td>5 ROOM</td>\n",
       "      <td>31</td>\n",
       "      <td>BEDOK ST AVE 2</td>\n",
       "      <td>19 TO 21</td>\n",
       "      <td>118.0</td>\n",
       "      <td>Standard</td>\n",
       "      <td>1978</td>\n",
       "      <td>57 years 04 months</td>\n",
       "      <td>600000.0</td>\n",
       "    </tr>\n",
       "    <tr>\n",
       "      <th>60522</th>\n",
       "      <td>2019-11</td>\n",
       "      <td>BEDOK</td>\n",
       "      <td>5 ROOM</td>\n",
       "      <td>32</td>\n",
       "      <td>BEDOK ST AVE 2</td>\n",
       "      <td>10 TO 12</td>\n",
       "      <td>115.0</td>\n",
       "      <td>Standard</td>\n",
       "      <td>1978</td>\n",
       "      <td>57 years 04 months</td>\n",
       "      <td>497000.0</td>\n",
       "    </tr>\n",
       "    <tr>\n",
       "      <th>60530</th>\n",
       "      <td>2019-11</td>\n",
       "      <td>BISHAN</td>\n",
       "      <td>3 ROOM</td>\n",
       "      <td>306</td>\n",
       "      <td>SHUNFU RD</td>\n",
       "      <td>01 TO 03</td>\n",
       "      <td>67.0</td>\n",
       "      <td>New Generation</td>\n",
       "      <td>1985</td>\n",
       "      <td>64 years 02 months</td>\n",
       "      <td>380000.0</td>\n",
       "    </tr>\n",
       "  </tbody>\n",
       "</table>\n",
       "<p>295 rows × 11 columns</p>\n",
       "</div>"
      ],
      "text/plain": [
       "         month           town flat_type block          street_name  \\\n",
       "289    2017-01  BUKIT PANJANG    5 ROOM   174           LOMPANG RD   \n",
       "408    2017-01        GEYLANG    4 ROOM   120    GEYLANG EAST CTRL   \n",
       "899    2017-01      SERANGOON    4 ROOM   109  SERANGOON NTH AVE 1   \n",
       "925    2017-01       TAMPINES    3 ROOM   806       TAMPINES AVE 4   \n",
       "941    2017-01       TAMPINES    4 ROOM   421       TAMPINES ST 41   \n",
       "...        ...            ...       ...   ...                  ...   \n",
       "60499  2019-11          BEDOK    4 ROOM   667            JLN DAMAI   \n",
       "60511  2019-11          BEDOK    5 ROOM   147   BEDOK RESERVOIR RD   \n",
       "60521  2019-11          BEDOK    5 ROOM    31       BEDOK ST AVE 2   \n",
       "60522  2019-11          BEDOK    5 ROOM    32       BEDOK ST AVE 2   \n",
       "60530  2019-11         BISHAN    3 ROOM   306            SHUNFU RD   \n",
       "\n",
       "      storey_range  floor_area_sqm      flat_model  lease_commence_date  \\\n",
       "289       04 TO 06           122.0        Improved                 1997   \n",
       "408       10 TO 12            91.0  New Generation                 1982   \n",
       "899       04 TO 06            91.0  New Generation                 1985   \n",
       "925       04 TO 06            73.0         Model A                 1984   \n",
       "941       04 TO 06           105.0         Model A                 1985   \n",
       "...            ...             ...             ...                  ...   \n",
       "60499     01 TO 03           108.0         Model A                 1996   \n",
       "60511     07 TO 09           122.0        Improved                 1987   \n",
       "60521     19 TO 21           118.0        Standard                 1978   \n",
       "60522     10 TO 12           115.0        Standard                 1978   \n",
       "60530     01 TO 03            67.0  New Generation                 1985   \n",
       "\n",
       "          remaining_lease  resale_price  \n",
       "289    79 years 07 months      555000.0  \n",
       "408    64 years 04 months      515000.0  \n",
       "899    67 years 05 months      390000.0  \n",
       "925    66 years 02 months      345000.0  \n",
       "941    67 years 05 months      413888.0  \n",
       "...                   ...           ...  \n",
       "60499            76 years      448000.0  \n",
       "60511  66 years 04 months      468000.0  \n",
       "60521  57 years 04 months      600000.0  \n",
       "60522  57 years 04 months      497000.0  \n",
       "60530  64 years 02 months      380000.0  \n",
       "\n",
       "[295 rows x 11 columns]"
      ]
     },
     "execution_count": 32,
     "metadata": {},
     "output_type": "execute_result"
    }
   ],
   "source": [
    "df.iloc[failure]"
   ]
  },
  {
   "cell_type": "code",
   "execution_count": 43,
   "metadata": {},
   "outputs": [],
   "source": [
    "url_u = [u.strip()[1:-1] for u in url_used]"
   ]
  },
  {
   "cell_type": "code",
   "execution_count": 51,
   "metadata": {},
   "outputs": [
    {
     "data": {
      "text/plain": [
       "62265"
      ]
     },
     "execution_count": 51,
     "metadata": {},
     "output_type": "execute_result"
    }
   ],
   "source": [
    "len(url_u)"
   ]
  },
  {
   "cell_type": "code",
   "execution_count": 52,
   "metadata": {},
   "outputs": [
    {
     "data": {
      "text/plain": [
       "'url\": https://developers.onemap.sg/commonapi/search?searchVal=689A+CHOA+CHU+KANG+DR&returnGeom=Y&getAddrDetails=Y'"
      ]
     },
     "execution_count": 52,
     "metadata": {},
     "output_type": "execute_result"
    }
   ],
   "source": [
    "url_u[0]"
   ]
  },
  {
   "cell_type": "code",
   "execution_count": 54,
   "metadata": {},
   "outputs": [
    {
     "data": {
      "text/plain": [
       "'https://developers.onemap.sg/commonapi/search?searchVal=406+ANG+MO+KIO+AVE+10&returnGeom=Y&getAddrDetails=Y'"
      ]
     },
     "execution_count": 54,
     "metadata": {},
     "output_type": "execute_result"
    }
   ],
   "source": [
    "urls[0]"
   ]
  },
  {
   "cell_type": "code",
   "execution_count": null,
   "metadata": {},
   "outputs": [],
   "source": []
  }
 ],
 "metadata": {
  "kernelspec": {
   "display_name": "Python 3",
   "language": "python",
   "name": "python3"
  }
 },
 "nbformat": 4,
 "nbformat_minor": 2
}
