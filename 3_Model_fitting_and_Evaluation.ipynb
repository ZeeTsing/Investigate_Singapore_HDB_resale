{
 "cells": [
  {
   "cell_type": "markdown",
   "metadata": {},
   "source": [
    "# Model and Model performance\n",
    "\n",
    "We are now ready to start looking at other models!\n",
    "\n",
    "We will try to model the data with 4 models: Ordinary least square, Ridge regression, LASSO regression and random forest.\n",
    "\n",
    "For evaluation metric, we will use R square, Root Mean Square Error (RMSE) and mean absolute error (MAE)"
   ]
  },
  {
   "cell_type": "code",
   "execution_count": 6,
   "metadata": {},
   "outputs": [],
   "source": [
    "from sklearn.linear_model import LinearRegression,RidgeCV ,LassoCV\n",
    "from sklearn.ensemble import RandomForestRegressor\n",
    "\n",
    "from sklearn.metrics import  mean_absolute_error\n",
    "from sklearn.model_selection import GridSearchCV\n",
    "from sklearn.model_selection import cross_val_score, KFold\n",
    "from sklearn.model_selection import train_test_split\n",
    "\n",
    "seed = 111\n",
    "import numpy as np\n",
    "import pandas as pd\n",
    "import seaborn as sns\n",
    "import matplotlib.pyplot as plt\n",
    "\n",
    "def RMSE (pred,act):\n",
    "    return np.sqrt(mean_squared_error(act, pred))"
   ]
  },
  {
   "cell_type": "code",
   "execution_count": null,
   "metadata": {},
   "outputs": [],
   "source": [
    "# need to decide whether to use RidgeVC/LassoCV or gridserach.. heheh maybe the respective CV is better\n",
    "\n",
    "#1 fit linear model\n",
    "#2 process using standard scalar\n",
    "#3 fit ridge & tune parameters\n",
    "#4 fit lasso & tune parameters\n",
    "#5 fit random forest & tune parameters\n",
    "#6 cv to see which model performs best\n",
    "#7 conclusion which model to use\n",
    "\n",
    "#8 prepare preso > idea: plot a graph of diff model performance regarding these 3 metrics\n",
    "# prepare interpretation of model\n",
    "# translate to human language"
   ]
  },
  {
   "cell_type": "code",
   "execution_count": 7,
   "metadata": {},
   "outputs": [],
   "source": [
    "def treat_features_logy (df):\n",
    "    columns_to_keep = ['town','flat_type','storey','floor_area_sqm','Remaining_lease_years','num_schools',\"school_rank_nearby\",\"flat_model\"]\n",
    "    y = pd.Series(df['resale_price'].apply(lambda x: np.log(x)))\n",
    "    x = pd.DataFrame(df[columns_to_keep])\n",
    "    categorical_features = ['town','flat_type','storey','school_rank_nearby','flat_model']\n",
    "    X = pd.get_dummies(x,columns = categorical_features,drop_first = True)\n",
    "    return train_test_split(X,y,test_size = 0.2,random_state = seed)"
   ]
  },
  {
   "cell_type": "code",
   "execution_count": 8,
   "metadata": {},
   "outputs": [],
   "source": [
    "data_test = pd.read_pickle('data_test.pkl')\n",
    "data_train = pd.read_pickle('data_train.pkl')"
   ]
  },
  {
   "cell_type": "code",
   "execution_count": 9,
   "metadata": {},
   "outputs": [],
   "source": [
    "X_train,X_val,y_train,y_val = treat_features_logy(data_train)"
   ]
  },
  {
   "cell_type": "code",
   "execution_count": null,
   "metadata": {},
   "outputs": [],
   "source": []
  }
 ],
 "metadata": {
  "kernelspec": {
   "display_name": "Python 3",
   "language": "python",
   "name": "python3"
  },
  "language_info": {
   "codemirror_mode": {
    "name": "ipython",
    "version": 3
   },
   "file_extension": ".py",
   "mimetype": "text/x-python",
   "name": "python",
   "nbconvert_exporter": "python",
   "pygments_lexer": "ipython3",
   "version": "3.7.3"
  }
 },
 "nbformat": 4,
 "nbformat_minor": 2
}
